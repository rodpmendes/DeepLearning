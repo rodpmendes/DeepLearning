{
  "nbformat": 4,
  "nbformat_minor": 5,
  "metadata": {
    "kernelspec": {
      "display_name": "Python 3",
      "language": "python",
      "name": "python3"
    },
    "language_info": {
      "codemirror_mode": {
        "name": "ipython",
        "version": 3
      },
      "file_extension": ".py",
      "mimetype": "text/x-python",
      "name": "python",
      "nbconvert_exporter": "python",
      "pygments_lexer": "ipython3",
      "version": "3.8.5"
    },
    "colab": {
      "name": "simple-regression.ipynb",
      "provenance": [],
      "include_colab_link": true
    }
  },
  "cells": [
    {
      "cell_type": "markdown",
      "metadata": {
        "id": "view-in-github",
        "colab_type": "text"
      },
      "source": [
        "<a href=\"https://colab.research.google.com/github/rodpmendes/DeepLearning/blob/main/simple_regression.ipynb\" target=\"_parent\"><img src=\"https://colab.research.google.com/assets/colab-badge.svg\" alt=\"Open In Colab\"/></a>"
      ]
    },
    {
      "cell_type": "markdown",
      "metadata": {
        "id": "4f162e58"
      },
      "source": [
        "### Create two random variables statistically independent"
      ],
      "id": "4f162e58"
    },
    {
      "cell_type": "code",
      "metadata": {
        "colab": {
          "base_uri": "https://localhost:8080/"
        },
        "id": "a8a59302",
        "outputId": "32925af4-ba6a-4a60-f474-c2d427885e3e"
      },
      "source": [
        "import numpy as np\n",
        "import matplotlib.pyplot as plt\n",
        "from matplotlib import cm\n",
        "from matplotlib.ticker import LinearLocator\n",
        "import matplotlib.ticker as tick\n",
        "\n",
        "nsamples = 5000 # number of samples\n",
        "x1       = 5*np.random.rand(nsamples) # random variable 1 \n",
        "x2       = 100*np.random.rand(nsamples) # random variable 2 \n",
        "X        = np.column_stack((x1,x2))\n",
        "print(X)"
      ],
      "id": "a8a59302",
      "execution_count": 6,
      "outputs": [
        {
          "output_type": "stream",
          "text": [
            "[[ 2.10038025 79.0299544 ]\n",
            " [ 4.18150182 16.82538133]\n",
            " [ 4.53143589 32.34492224]\n",
            " ...\n",
            " [ 0.24206389 50.76638101]\n",
            " [ 4.58045419 20.58494189]\n",
            " [ 4.43825499 12.64151529]]\n"
          ],
          "name": "stdout"
        }
      ]
    },
    {
      "cell_type": "markdown",
      "metadata": {
        "id": "4f0dc5d3"
      },
      "source": [
        "### Create a random variable y that depends on the random variables x1 and x2"
      ],
      "id": "4f0dc5d3"
    },
    {
      "cell_type": "code",
      "metadata": {
        "colab": {
          "base_uri": "https://localhost:8080/"
        },
        "id": "5c452204",
        "outputId": "a5974274-43d6-4257-9363-fd28f4827267"
      },
      "source": [
        "Y      = np.sqrt(X[:,0]**2 + X[:,1]**2)\n",
        "print(Y)"
      ],
      "id": "5c452204",
      "execution_count": 2,
      "outputs": [
        {
          "output_type": "stream",
          "text": [
            "[84.76978436 98.75198577 24.54440924 ... 20.91615524 33.5738081\n",
            " 88.42481153]\n"
          ],
          "name": "stdout"
        }
      ]
    },
    {
      "cell_type": "markdown",
      "metadata": {
        "id": "23806298"
      },
      "source": [
        "### Normalize all random variables in [0,1] to estimate y from (x1,x2) by using a neural network. Note that you must avoid normalization methods, such as z-score, which creates negative values "
      ],
      "id": "23806298"
    },
    {
      "cell_type": "code",
      "metadata": {
        "id": "626dfbdb"
      },
      "source": [
        "x1_min = X[:,0].min()\n",
        "x2_min = X[:,1].min()\n",
        "x1_max = X[:,0].max()\n",
        "x2_max = X[:,1].max()\n",
        "y_min  = Y.min()\n",
        "y_max  = Y.max()\n",
        "\n",
        "X[:,0]   = (X[:,0]-x1_min)/(x1_max-x1_min)\n",
        "X[:,1]   = (X[:,1]-x2_min)/(x2_max-x2_min)\n",
        "Y        = (Y-y_min)/(y_max-y_min)"
      ],
      "id": "626dfbdb",
      "execution_count": 3,
      "outputs": []
    },
    {
      "cell_type": "markdown",
      "metadata": {
        "id": "ad9000fd"
      },
      "source": [
        "### Visualize the manifold y = f(x1,x2) for regression"
      ],
      "id": "ad9000fd"
    },
    {
      "cell_type": "code",
      "metadata": {
        "colab": {
          "base_uri": "https://localhost:8080/",
          "height": 248
        },
        "id": "0b73c548",
        "outputId": "a294db50-3071-4da4-b504-f1c700f9f7af"
      },
      "source": [
        "fig, ax  = plt.subplots(subplot_kw={\"projection\": \"3d\"})\n",
        "Px1, Px2 = np.meshgrid(X[:,0], X[:,1])\n",
        "Py       = np.sqrt(Px1**2 + Px2**2)\n",
        "Py       = (Py - Py.min())/(Py.max()-Py.min())\n",
        "surf     = ax.plot_surface(Px1, Px2, Py, cmap=cm.coolwarm,linewidth=0, antialiased=False)\n",
        "ax.set_zlim(0, 1.01)\n",
        "ax.zaxis.set_major_locator(LinearLocator(10))\n",
        "\n",
        "z_fmt = tick.FormatStrFormatter('%.02f')\n",
        "ax.zaxis.set_major_formatter(z_fmt)\n",
        "#ax.zaxis.set_major_formatter('{x:.02f}')\n",
        "\n",
        "fig.colorbar(surf, shrink=0.5, aspect=5)\n",
        "plt.show()"
      ],
      "id": "0b73c548",
      "execution_count": 14,
      "outputs": [
        {
          "output_type": "display_data",
          "data": {
            "image/png": "[encoded data removed]",
            "text/plain": [
              "<Figure size 432x288 with 2 Axes>"
            ]
          },
          "metadata": {
            "tags": [],
            "needs_background": "light"
          }
        }
      ]
    },
    {
      "cell_type": "markdown",
      "metadata": {
        "id": "01b3f26b"
      },
      "source": [
        "### Create a neural network model for regression and train it"
      ],
      "id": "01b3f26b"
    },
    {
      "cell_type": "code",
      "metadata": {
        "colab": {
          "base_uri": "https://localhost:8080/"
        },
        "id": "b49a4759",
        "outputId": "80a1761c-d414-4bd7-a4ba-747d296c9509"
      },
      "source": [
        "import tensorflow as tf\n",
        "from tensorflow.keras import layers\n",
        "from tensorflow.keras import models\n",
        "from tensorflow.keras import optimizers\n",
        "\n",
        "model = models.Sequential()\n",
        "model.add(layers.Flatten(input_shape=[2]))\n",
        "model.add(layers.Dense(100, name='dense1', activation='relu'))\n",
        "#model.add(layers.Dropout(0.5))\n",
        "model.add(layers.Dense(1, activation='sigmoid'))\n",
        "model.compile(loss='mse', optimizer = optimizers.SGD(learning_rate=1e-3, momentum=0.9))\n",
        "model.summary() \n",
        "history = model.fit(X,Y,epochs=100,batch_size=40)\n"
      ],
      "id": "b49a4759",
      "execution_count": 15,
      "outputs": [
        {
          "output_type": "stream",
          "text": [
            "Model: \"sequential\"\n",
            "_________________________________________________________________\n",
            "Layer (type)                 Output Shape              Param #   \n",
            "=================================================================\n",
            "flatten (Flatten)            (None, 2)                 0         \n",
            "_________________________________________________________________\n",
            "dense1 (Dense)               (None, 100)               300       \n",
            "_________________________________________________________________\n",
            "dense (Dense)                (None, 1)                 101       \n",
            "=================================================================\n",
            "Total params: 401\n",
            "Trainable params: 401\n",
            "Non-trainable params: 0\n",
            "_________________________________________________________________\n",
            "Epoch 1/100\n",
            "125/125 [==============================] - 1s 983us/step - loss: 0.1164\n",
            "Epoch 2/100\n",
            "125/125 [==============================] - 0s 1ms/step - loss: 0.0972\n",
            "Epoch 3/100\n",
            "125/125 [==============================] - 0s 1ms/step - loss: 0.0960\n",
            "Epoch 4/100\n",
            "125/125 [==============================] - 0s 1ms/step - loss: 0.0956\n",
            "Epoch 5/100\n",
            "125/125 [==============================] - 0s 1ms/step - loss: 0.0912\n",
            "Epoch 6/100\n",
            "125/125 [==============================] - 0s 1ms/step - loss: 0.0892\n",
            "Epoch 7/100\n",
            "125/125 [==============================] - 0s 984us/step - loss: 0.0913\n",
            "Epoch 8/100\n",
            "125/125 [==============================] - 0s 1ms/step - loss: 0.0957\n",
            "Epoch 9/100\n",
            "125/125 [==============================] - 0s 984us/step - loss: 0.0907\n",
            "Epoch 10/100\n",
            "125/125 [==============================] - 0s 1ms/step - loss: 0.0916\n",
            "Epoch 11/100\n",
            "125/125 [==============================] - 0s 1ms/step - loss: 0.0922\n",
            "Epoch 12/100\n",
            "125/125 [==============================] - 0s 1ms/step - loss: 0.0921\n",
            "Epoch 13/100\n",
            "125/125 [==============================] - 0s 1ms/step - loss: 0.0904\n",
            "Epoch 14/100\n",
            "125/125 [==============================] - 0s 1ms/step - loss: 0.0886\n",
            "Epoch 15/100\n",
            "125/125 [==============================] - 0s 1ms/step - loss: 0.0937\n",
            "Epoch 16/100\n",
            "125/125 [==============================] - 0s 974us/step - loss: 0.0940\n",
            "Epoch 17/100\n",
            "125/125 [==============================] - 0s 1ms/step - loss: 0.0864\n",
            "Epoch 18/100\n",
            "125/125 [==============================] - 0s 1ms/step - loss: 0.0933\n",
            "Epoch 19/100\n",
            "125/125 [==============================] - 0s 964us/step - loss: 0.0881\n",
            "Epoch 20/100\n",
            "125/125 [==============================] - 0s 1ms/step - loss: 0.0894\n",
            "Epoch 21/100\n",
            "125/125 [==============================] - 0s 1ms/step - loss: 0.0939\n",
            "Epoch 22/100\n",
            "125/125 [==============================] - 0s 1ms/step - loss: 0.0889\n",
            "Epoch 23/100\n",
            "125/125 [==============================] - 0s 1ms/step - loss: 0.0925\n",
            "Epoch 24/100\n",
            "125/125 [==============================] - 0s 1ms/step - loss: 0.0882\n",
            "Epoch 25/100\n",
            "125/125 [==============================] - 0s 1ms/step - loss: 0.0916\n",
            "Epoch 26/100\n",
            "125/125 [==============================] - 0s 967us/step - loss: 0.0907\n",
            "Epoch 27/100\n",
            "125/125 [==============================] - 0s 999us/step - loss: 0.0862\n",
            "Epoch 28/100\n",
            "125/125 [==============================] - 0s 985us/step - loss: 0.0901\n",
            "Epoch 29/100\n",
            "125/125 [==============================] - 0s 1ms/step - loss: 0.0887\n",
            "Epoch 30/100\n",
            "125/125 [==============================] - 0s 966us/step - loss: 0.0888\n",
            "Epoch 31/100\n",
            "125/125 [==============================] - 0s 1ms/step - loss: 0.0897\n",
            "Epoch 32/100\n",
            "125/125 [==============================] - 0s 996us/step - loss: 0.0860\n",
            "Epoch 33/100\n",
            "125/125 [==============================] - 0s 1ms/step - loss: 0.0866\n",
            "Epoch 34/100\n",
            "125/125 [==============================] - 0s 986us/step - loss: 0.0872\n",
            "Epoch 35/100\n",
            "125/125 [==============================] - 0s 1ms/step - loss: 0.0868\n",
            "Epoch 36/100\n",
            "125/125 [==============================] - 0s 1ms/step - loss: 0.0882\n",
            "Epoch 37/100\n",
            "125/125 [==============================] - 0s 1ms/step - loss: 0.0895\n",
            "Epoch 38/100\n",
            "125/125 [==============================] - 0s 1ms/step - loss: 0.0864\n",
            "Epoch 39/100\n",
            "125/125 [==============================] - 0s 1ms/step - loss: 0.0877\n",
            "Epoch 40/100\n",
            "125/125 [==============================] - 0s 1ms/step - loss: 0.0869\n",
            "Epoch 41/100\n",
            "125/125 [==============================] - 0s 961us/step - loss: 0.0868\n",
            "Epoch 42/100\n",
            "125/125 [==============================] - 0s 1ms/step - loss: 0.0880\n",
            "Epoch 43/100\n",
            "125/125 [==============================] - 0s 999us/step - loss: 0.0894\n",
            "Epoch 44/100\n",
            "125/125 [==============================] - 0s 1ms/step - loss: 0.0883\n",
            "Epoch 45/100\n",
            "125/125 [==============================] - 0s 1ms/step - loss: 0.0876\n",
            "Epoch 46/100\n",
            "125/125 [==============================] - 0s 1ms/step - loss: 0.0864\n",
            "Epoch 47/100\n",
            "125/125 [==============================] - 0s 1ms/step - loss: 0.0865\n",
            "Epoch 48/100\n",
            "125/125 [==============================] - 0s 985us/step - loss: 0.0859\n",
            "Epoch 49/100\n",
            "125/125 [==============================] - 0s 1ms/step - loss: 0.0854\n",
            "Epoch 50/100\n",
            "125/125 [==============================] - 0s 1ms/step - loss: 0.0850\n",
            "Epoch 51/100\n",
            "125/125 [==============================] - 0s 1ms/step - loss: 0.0879\n",
            "Epoch 52/100\n",
            "125/125 [==============================] - 0s 1ms/step - loss: 0.0859\n",
            "Epoch 53/100\n",
            "125/125 [==============================] - 0s 1ms/step - loss: 0.0854\n",
            "Epoch 54/100\n",
            "125/125 [==============================] - 0s 1ms/step - loss: 0.0856\n",
            "Epoch 55/100\n",
            "125/125 [==============================] - 0s 1ms/step - loss: 0.0854\n",
            "Epoch 56/100\n",
            "125/125 [==============================] - 0s 966us/step - loss: 0.0860\n",
            "Epoch 57/100\n",
            "125/125 [==============================] - 0s 987us/step - loss: 0.0860\n",
            "Epoch 58/100\n",
            "125/125 [==============================] - 0s 1ms/step - loss: 0.0860\n",
            "Epoch 59/100\n",
            "125/125 [==============================] - 0s 1ms/step - loss: 0.0852\n",
            "Epoch 60/100\n",
            "125/125 [==============================] - 0s 1ms/step - loss: 0.0854\n",
            "Epoch 61/100\n",
            "125/125 [==============================] - 0s 986us/step - loss: 0.0849\n",
            "Epoch 62/100\n",
            "125/125 [==============================] - 0s 1ms/step - loss: 0.0857\n",
            "Epoch 63/100\n",
            "125/125 [==============================] - 0s 1ms/step - loss: 0.0859\n",
            "Epoch 64/100\n",
            "125/125 [==============================] - 0s 1ms/step - loss: 0.0854\n",
            "Epoch 65/100\n",
            "125/125 [==============================] - 0s 1ms/step - loss: 0.0863\n",
            "Epoch 66/100\n",
            "125/125 [==============================] - 0s 1ms/step - loss: 0.0875\n",
            "Epoch 67/100\n",
            "125/125 [==============================] - 0s 1ms/step - loss: 0.0849\n",
            "Epoch 68/100\n",
            "125/125 [==============================] - 0s 1ms/step - loss: 0.0857\n",
            "Epoch 69/100\n",
            "125/125 [==============================] - 0s 992us/step - loss: 0.0849\n",
            "Epoch 70/100\n",
            "125/125 [==============================] - 0s 1ms/step - loss: 0.0859\n",
            "Epoch 71/100\n",
            "125/125 [==============================] - 0s 968us/step - loss: 0.0850\n",
            "Epoch 72/100\n",
            "125/125 [==============================] - 0s 1ms/step - loss: 0.0848\n",
            "Epoch 73/100\n",
            "125/125 [==============================] - 0s 979us/step - loss: 0.0861\n",
            "Epoch 74/100\n",
            "125/125 [==============================] - 0s 1ms/step - loss: 0.0865\n",
            "Epoch 75/100\n",
            "125/125 [==============================] - 0s 1ms/step - loss: 0.0850\n",
            "Epoch 76/100\n",
            "125/125 [==============================] - 0s 1ms/step - loss: 0.0847\n",
            "Epoch 77/100\n",
            "125/125 [==============================] - 0s 1ms/step - loss: 0.0856\n",
            "Epoch 78/100\n",
            "125/125 [==============================] - 0s 998us/step - loss: 0.0849\n",
            "Epoch 79/100\n",
            "125/125 [==============================] - 0s 976us/step - loss: 0.0849\n",
            "Epoch 80/100\n",
            "125/125 [==============================] - 0s 960us/step - loss: 0.0857\n",
            "Epoch 81/100\n",
            "125/125 [==============================] - 0s 1ms/step - loss: 0.0859\n",
            "Epoch 82/100\n",
            "125/125 [==============================] - 0s 1ms/step - loss: 0.0845\n",
            "Epoch 83/100\n",
            "125/125 [==============================] - 0s 1ms/step - loss: 0.0851\n",
            "Epoch 84/100\n",
            "125/125 [==============================] - 0s 971us/step - loss: 0.0847\n",
            "Epoch 85/100\n",
            "125/125 [==============================] - 0s 1ms/step - loss: 0.0845\n",
            "Epoch 86/100\n",
            "125/125 [==============================] - 0s 1ms/step - loss: 0.0848\n",
            "Epoch 87/100\n",
            "125/125 [==============================] - 0s 1ms/step - loss: 0.0847\n",
            "Epoch 88/100\n",
            "125/125 [==============================] - 0s 1ms/step - loss: 0.0848\n",
            "Epoch 89/100\n",
            "125/125 [==============================] - 0s 1ms/step - loss: 0.0847\n",
            "Epoch 90/100\n",
            "125/125 [==============================] - 0s 1ms/step - loss: 0.0846\n",
            "Epoch 91/100\n",
            "125/125 [==============================] - 0s 1ms/step - loss: 0.0848\n",
            "Epoch 92/100\n",
            "125/125 [==============================] - 0s 1ms/step - loss: 0.0843\n",
            "Epoch 93/100\n",
            "125/125 [==============================] - 0s 1ms/step - loss: 0.0851\n",
            "Epoch 94/100\n",
            "125/125 [==============================] - 0s 1ms/step - loss: 0.0847\n",
            "Epoch 95/100\n",
            "125/125 [==============================] - 0s 1ms/step - loss: 0.0847\n",
            "Epoch 96/100\n",
            "125/125 [==============================] - 0s 989us/step - loss: 0.0844\n",
            "Epoch 97/100\n",
            "125/125 [==============================] - 0s 1ms/step - loss: 0.0842\n",
            "Epoch 98/100\n",
            "125/125 [==============================] - 0s 1ms/step - loss: 0.0848\n",
            "Epoch 99/100\n",
            "125/125 [==============================] - 0s 1ms/step - loss: 0.0841\n",
            "Epoch 100/100\n",
            "125/125 [==============================] - 0s 1ms/step - loss: 0.0843\n"
          ],
          "name": "stdout"
        }
      ]
    },
    {
      "cell_type": "markdown",
      "metadata": {
        "id": "71e18d89"
      },
      "source": [
        "### Verify the results: the model should be able to estimate y given (x1,x2). "
      ],
      "id": "71e18d89"
    },
    {
      "cell_type": "code",
      "metadata": {
        "colab": {
          "base_uri": "https://localhost:8080/"
        },
        "id": "c09cf3fd",
        "outputId": "81880fca-079c-4627-dd12-c3c2ca9e7bb8"
      },
      "source": [
        "x1 = 5*np.random.rand(1)[0] \n",
        "x2 = 100*np.random.rand(1)[0]\n",
        "y  = (x1**2 + x2**2)**(1/2)\n",
        "x1 = (x1 - x1_min) / (x1_max - x1_min)\n",
        "x2 = (x2 - x2_min) / (x2_max - x2_min)\n",
        "y_pred = model.predict([[x1,x2]])[0]*(y_max-y_min) + y_min \n",
        "print(y_pred, y, \"squared error=\", (y_pred-y)**2)"
      ],
      "id": "c09cf3fd",
      "execution_count": 16,
      "outputs": [
        {
          "output_type": "stream",
          "text": [
            "[49.229465] 97.27969652458813 squared error= [2308.8245]\n"
          ],
          "name": "stdout"
        }
      ]
    }
  ]
}